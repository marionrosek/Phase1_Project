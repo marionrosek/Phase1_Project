{
 "cells": [
  {
   "cell_type": "markdown",
   "id": "fb54dfd5",
   "metadata": {},
   "source": [
    "Spotify is a digital music service that gives you access to millions of songs.Artists upload their songs or albums and people get access to their music through the app. Songs and artists with the most streams generate royalties or investments in exclusive content. Spotify identifies songs with the most streams and also predicts which songs are likely to be hits based on the artists popularity or time of release.It also understands how listener preferences change over time. This dataset contains the most popular songs in 2023. It shows the spotify stream count,the release dates,the track name and the artist name. From this dataset, we want to get the most popular artist,most popular songs,average streams per year,songs with the highest stream counts and which top artists who consistently produces hits."
   ]
  },
  {
   "cell_type": "markdown",
   "id": "bc0baff1",
   "metadata": {},
   "source": [
    "To be able to run the data we obtained about Spotify,we need to first import the necessary tools to run the data."
   ]
  },
  {
   "cell_type": "code",
   "execution_count": 2,
   "id": "133b66fc",
   "metadata": {},
   "outputs": [],
   "source": [
    "import pandas as pd\n",
    "import matplotlib.pyplot as plt\n",
    "import seaborn as sns\n",
    "import numpy as np\n",
    "import csv"
   ]
  },
  {
   "cell_type": "markdown",
   "id": "0291e5f5",
   "metadata": {},
   "source": [
    "Then load the Dataset"
   ]
  },
  {
   "cell_type": "code",
   "execution_count": 3,
   "id": "7722c623",
   "metadata": {},
   "outputs": [],
   "source": [
    "file_path=r\"C:\\Users\\User\\Documents\\Phase1_Project\\Popular_Spotify_Songs.csv\"\n",
    "with open(file_path, encoding=\"latin1\") as file:\n",
    "    reader = csv.DictReader(file)\n",
    "    for row in reader:\n",
    "        row"
   ]
  },
  {
   "cell_type": "code",
   "execution_count": 4,
   "id": "75f34925",
   "metadata": {},
   "outputs": [
    {
     "data": {
      "text/html": [
       "<div>\n",
       "<style scoped>\n",
       "    .dataframe tbody tr th:only-of-type {\n",
       "        vertical-align: middle;\n",
       "    }\n",
       "\n",
       "    .dataframe tbody tr th {\n",
       "        vertical-align: top;\n",
       "    }\n",
       "\n",
       "    .dataframe thead th {\n",
       "        text-align: right;\n",
       "    }\n",
       "</style>\n",
       "<table border=\"1\" class=\"dataframe\">\n",
       "  <thead>\n",
       "    <tr style=\"text-align: right;\">\n",
       "      <th></th>\n",
       "      <th>track_name</th>\n",
       "      <th>artist(s)_name</th>\n",
       "      <th>artist_count</th>\n",
       "      <th>released_year</th>\n",
       "      <th>released_month</th>\n",
       "      <th>released_day</th>\n",
       "      <th>in_spotify_playlists</th>\n",
       "      <th>in_spotify_charts</th>\n",
       "      <th>streams</th>\n",
       "      <th>in_apple_playlists</th>\n",
       "      <th>...</th>\n",
       "      <th>bpm</th>\n",
       "      <th>key</th>\n",
       "      <th>mode</th>\n",
       "      <th>danceability_%</th>\n",
       "      <th>valence_%</th>\n",
       "      <th>energy_%</th>\n",
       "      <th>acousticness_%</th>\n",
       "      <th>instrumentalness_%</th>\n",
       "      <th>liveness_%</th>\n",
       "      <th>speechiness_%</th>\n",
       "    </tr>\n",
       "  </thead>\n",
       "  <tbody>\n",
       "    <tr>\n",
       "      <th>0</th>\n",
       "      <td>Seven (feat. Latto) (Explicit Ver.)</td>\n",
       "      <td>Latto, Jung Kook</td>\n",
       "      <td>2</td>\n",
       "      <td>2023</td>\n",
       "      <td>7</td>\n",
       "      <td>14</td>\n",
       "      <td>553</td>\n",
       "      <td>147</td>\n",
       "      <td>141381703</td>\n",
       "      <td>43</td>\n",
       "      <td>...</td>\n",
       "      <td>125</td>\n",
       "      <td>B</td>\n",
       "      <td>Major</td>\n",
       "      <td>80</td>\n",
       "      <td>89</td>\n",
       "      <td>83</td>\n",
       "      <td>31</td>\n",
       "      <td>0</td>\n",
       "      <td>8</td>\n",
       "      <td>4</td>\n",
       "    </tr>\n",
       "    <tr>\n",
       "      <th>1</th>\n",
       "      <td>LALA</td>\n",
       "      <td>Myke Towers</td>\n",
       "      <td>1</td>\n",
       "      <td>2023</td>\n",
       "      <td>3</td>\n",
       "      <td>23</td>\n",
       "      <td>1474</td>\n",
       "      <td>48</td>\n",
       "      <td>133716286</td>\n",
       "      <td>48</td>\n",
       "      <td>...</td>\n",
       "      <td>92</td>\n",
       "      <td>C#</td>\n",
       "      <td>Major</td>\n",
       "      <td>71</td>\n",
       "      <td>61</td>\n",
       "      <td>74</td>\n",
       "      <td>7</td>\n",
       "      <td>0</td>\n",
       "      <td>10</td>\n",
       "      <td>4</td>\n",
       "    </tr>\n",
       "    <tr>\n",
       "      <th>2</th>\n",
       "      <td>vampire</td>\n",
       "      <td>Olivia Rodrigo</td>\n",
       "      <td>1</td>\n",
       "      <td>2023</td>\n",
       "      <td>6</td>\n",
       "      <td>30</td>\n",
       "      <td>1397</td>\n",
       "      <td>113</td>\n",
       "      <td>140003974</td>\n",
       "      <td>94</td>\n",
       "      <td>...</td>\n",
       "      <td>138</td>\n",
       "      <td>F</td>\n",
       "      <td>Major</td>\n",
       "      <td>51</td>\n",
       "      <td>32</td>\n",
       "      <td>53</td>\n",
       "      <td>17</td>\n",
       "      <td>0</td>\n",
       "      <td>31</td>\n",
       "      <td>6</td>\n",
       "    </tr>\n",
       "    <tr>\n",
       "      <th>3</th>\n",
       "      <td>Cruel Summer</td>\n",
       "      <td>Taylor Swift</td>\n",
       "      <td>1</td>\n",
       "      <td>2019</td>\n",
       "      <td>8</td>\n",
       "      <td>23</td>\n",
       "      <td>7858</td>\n",
       "      <td>100</td>\n",
       "      <td>800840817</td>\n",
       "      <td>116</td>\n",
       "      <td>...</td>\n",
       "      <td>170</td>\n",
       "      <td>A</td>\n",
       "      <td>Major</td>\n",
       "      <td>55</td>\n",
       "      <td>58</td>\n",
       "      <td>72</td>\n",
       "      <td>11</td>\n",
       "      <td>0</td>\n",
       "      <td>11</td>\n",
       "      <td>15</td>\n",
       "    </tr>\n",
       "    <tr>\n",
       "      <th>4</th>\n",
       "      <td>WHERE SHE GOES</td>\n",
       "      <td>Bad Bunny</td>\n",
       "      <td>1</td>\n",
       "      <td>2023</td>\n",
       "      <td>5</td>\n",
       "      <td>18</td>\n",
       "      <td>3133</td>\n",
       "      <td>50</td>\n",
       "      <td>303236322</td>\n",
       "      <td>84</td>\n",
       "      <td>...</td>\n",
       "      <td>144</td>\n",
       "      <td>A</td>\n",
       "      <td>Minor</td>\n",
       "      <td>65</td>\n",
       "      <td>23</td>\n",
       "      <td>80</td>\n",
       "      <td>14</td>\n",
       "      <td>63</td>\n",
       "      <td>11</td>\n",
       "      <td>6</td>\n",
       "    </tr>\n",
       "    <tr>\n",
       "      <th>5</th>\n",
       "      <td>Sprinter</td>\n",
       "      <td>Dave, Central Cee</td>\n",
       "      <td>2</td>\n",
       "      <td>2023</td>\n",
       "      <td>6</td>\n",
       "      <td>1</td>\n",
       "      <td>2186</td>\n",
       "      <td>91</td>\n",
       "      <td>183706234</td>\n",
       "      <td>67</td>\n",
       "      <td>...</td>\n",
       "      <td>141</td>\n",
       "      <td>C#</td>\n",
       "      <td>Major</td>\n",
       "      <td>92</td>\n",
       "      <td>66</td>\n",
       "      <td>58</td>\n",
       "      <td>19</td>\n",
       "      <td>0</td>\n",
       "      <td>8</td>\n",
       "      <td>24</td>\n",
       "    </tr>\n",
       "    <tr>\n",
       "      <th>6</th>\n",
       "      <td>Ella Baila Sola</td>\n",
       "      <td>Eslabon Armado, Peso Pluma</td>\n",
       "      <td>2</td>\n",
       "      <td>2023</td>\n",
       "      <td>3</td>\n",
       "      <td>16</td>\n",
       "      <td>3090</td>\n",
       "      <td>50</td>\n",
       "      <td>725980112</td>\n",
       "      <td>34</td>\n",
       "      <td>...</td>\n",
       "      <td>148</td>\n",
       "      <td>F</td>\n",
       "      <td>Minor</td>\n",
       "      <td>67</td>\n",
       "      <td>83</td>\n",
       "      <td>76</td>\n",
       "      <td>48</td>\n",
       "      <td>0</td>\n",
       "      <td>8</td>\n",
       "      <td>3</td>\n",
       "    </tr>\n",
       "    <tr>\n",
       "      <th>7</th>\n",
       "      <td>Columbia</td>\n",
       "      <td>Quevedo</td>\n",
       "      <td>1</td>\n",
       "      <td>2023</td>\n",
       "      <td>7</td>\n",
       "      <td>7</td>\n",
       "      <td>714</td>\n",
       "      <td>43</td>\n",
       "      <td>58149378</td>\n",
       "      <td>25</td>\n",
       "      <td>...</td>\n",
       "      <td>100</td>\n",
       "      <td>F</td>\n",
       "      <td>Major</td>\n",
       "      <td>67</td>\n",
       "      <td>26</td>\n",
       "      <td>71</td>\n",
       "      <td>37</td>\n",
       "      <td>0</td>\n",
       "      <td>11</td>\n",
       "      <td>4</td>\n",
       "    </tr>\n",
       "    <tr>\n",
       "      <th>8</th>\n",
       "      <td>fukumean</td>\n",
       "      <td>Gunna</td>\n",
       "      <td>1</td>\n",
       "      <td>2023</td>\n",
       "      <td>5</td>\n",
       "      <td>15</td>\n",
       "      <td>1096</td>\n",
       "      <td>83</td>\n",
       "      <td>95217315</td>\n",
       "      <td>60</td>\n",
       "      <td>...</td>\n",
       "      <td>130</td>\n",
       "      <td>C#</td>\n",
       "      <td>Minor</td>\n",
       "      <td>85</td>\n",
       "      <td>22</td>\n",
       "      <td>62</td>\n",
       "      <td>12</td>\n",
       "      <td>0</td>\n",
       "      <td>28</td>\n",
       "      <td>9</td>\n",
       "    </tr>\n",
       "    <tr>\n",
       "      <th>9</th>\n",
       "      <td>La Bebe - Remix</td>\n",
       "      <td>Peso Pluma, Yng Lvcas</td>\n",
       "      <td>2</td>\n",
       "      <td>2023</td>\n",
       "      <td>3</td>\n",
       "      <td>17</td>\n",
       "      <td>2953</td>\n",
       "      <td>44</td>\n",
       "      <td>553634067</td>\n",
       "      <td>49</td>\n",
       "      <td>...</td>\n",
       "      <td>170</td>\n",
       "      <td>D</td>\n",
       "      <td>Minor</td>\n",
       "      <td>81</td>\n",
       "      <td>56</td>\n",
       "      <td>48</td>\n",
       "      <td>21</td>\n",
       "      <td>0</td>\n",
       "      <td>8</td>\n",
       "      <td>33</td>\n",
       "    </tr>\n",
       "  </tbody>\n",
       "</table>\n",
       "<p>10 rows × 24 columns</p>\n",
       "</div>"
      ],
      "text/plain": [
       "                            track_name              artist(s)_name  \\\n",
       "0  Seven (feat. Latto) (Explicit Ver.)            Latto, Jung Kook   \n",
       "1                                 LALA                 Myke Towers   \n",
       "2                              vampire              Olivia Rodrigo   \n",
       "3                         Cruel Summer                Taylor Swift   \n",
       "4                       WHERE SHE GOES                   Bad Bunny   \n",
       "5                             Sprinter           Dave, Central Cee   \n",
       "6                      Ella Baila Sola  Eslabon Armado, Peso Pluma   \n",
       "7                             Columbia                     Quevedo   \n",
       "8                             fukumean                       Gunna   \n",
       "9                      La Bebe - Remix       Peso Pluma, Yng Lvcas   \n",
       "\n",
       "   artist_count  released_year  released_month  released_day  \\\n",
       "0             2           2023               7            14   \n",
       "1             1           2023               3            23   \n",
       "2             1           2023               6            30   \n",
       "3             1           2019               8            23   \n",
       "4             1           2023               5            18   \n",
       "5             2           2023               6             1   \n",
       "6             2           2023               3            16   \n",
       "7             1           2023               7             7   \n",
       "8             1           2023               5            15   \n",
       "9             2           2023               3            17   \n",
       "\n",
       "   in_spotify_playlists  in_spotify_charts    streams  in_apple_playlists  \\\n",
       "0                   553                147  141381703                  43   \n",
       "1                  1474                 48  133716286                  48   \n",
       "2                  1397                113  140003974                  94   \n",
       "3                  7858                100  800840817                 116   \n",
       "4                  3133                 50  303236322                  84   \n",
       "5                  2186                 91  183706234                  67   \n",
       "6                  3090                 50  725980112                  34   \n",
       "7                   714                 43   58149378                  25   \n",
       "8                  1096                 83   95217315                  60   \n",
       "9                  2953                 44  553634067                  49   \n",
       "\n",
       "   ...  bpm key   mode danceability_%  valence_% energy_% acousticness_%  \\\n",
       "0  ...  125   B  Major             80         89       83             31   \n",
       "1  ...   92  C#  Major             71         61       74              7   \n",
       "2  ...  138   F  Major             51         32       53             17   \n",
       "3  ...  170   A  Major             55         58       72             11   \n",
       "4  ...  144   A  Minor             65         23       80             14   \n",
       "5  ...  141  C#  Major             92         66       58             19   \n",
       "6  ...  148   F  Minor             67         83       76             48   \n",
       "7  ...  100   F  Major             67         26       71             37   \n",
       "8  ...  130  C#  Minor             85         22       62             12   \n",
       "9  ...  170   D  Minor             81         56       48             21   \n",
       "\n",
       "   instrumentalness_%  liveness_%  speechiness_%  \n",
       "0                   0           8              4  \n",
       "1                   0          10              4  \n",
       "2                   0          31              6  \n",
       "3                   0          11             15  \n",
       "4                  63          11              6  \n",
       "5                   0           8             24  \n",
       "6                   0           8              3  \n",
       "7                   0          11              4  \n",
       "8                   0          28              9  \n",
       "9                   0           8             33  \n",
       "\n",
       "[10 rows x 24 columns]"
      ]
     },
     "execution_count": 4,
     "metadata": {},
     "output_type": "execute_result"
    }
   ],
   "source": [
    "df=pd.read_csv(r\"C:\\Users\\User\\Documents\\Phase1_Project\\Popular_Spotify_Songs.csv\",encoding=\"latin1\")\n",
    "df.head(10)"
   ]
  },
  {
   "cell_type": "markdown",
   "id": "808b6b0b",
   "metadata": {},
   "source": [
    "We need a summary of our data."
   ]
  },
  {
   "cell_type": "code",
   "execution_count": 5,
   "id": "6fd3a28f",
   "metadata": {},
   "outputs": [
    {
     "name": "stdout",
     "output_type": "stream",
     "text": [
      "<class 'pandas.core.frame.DataFrame'>\n",
      "RangeIndex: 953 entries, 0 to 952\n",
      "Data columns (total 24 columns):\n",
      " #   Column                Non-Null Count  Dtype \n",
      "---  ------                --------------  ----- \n",
      " 0   track_name            953 non-null    object\n",
      " 1   artist(s)_name        953 non-null    object\n",
      " 2   artist_count          953 non-null    int64 \n",
      " 3   released_year         953 non-null    int64 \n",
      " 4   released_month        953 non-null    int64 \n",
      " 5   released_day          953 non-null    int64 \n",
      " 6   in_spotify_playlists  953 non-null    int64 \n",
      " 7   in_spotify_charts     953 non-null    int64 \n",
      " 8   streams               953 non-null    object\n",
      " 9   in_apple_playlists    953 non-null    int64 \n",
      " 10  in_apple_charts       953 non-null    int64 \n",
      " 11  in_deezer_playlists   953 non-null    object\n",
      " 12  in_deezer_charts      953 non-null    int64 \n",
      " 13  in_shazam_charts      903 non-null    object\n",
      " 14  bpm                   953 non-null    int64 \n",
      " 15  key                   858 non-null    object\n",
      " 16  mode                  953 non-null    object\n",
      " 17  danceability_%        953 non-null    int64 \n",
      " 18  valence_%             953 non-null    int64 \n",
      " 19  energy_%              953 non-null    int64 \n",
      " 20  acousticness_%        953 non-null    int64 \n",
      " 21  instrumentalness_%    953 non-null    int64 \n",
      " 22  liveness_%            953 non-null    int64 \n",
      " 23  speechiness_%         953 non-null    int64 \n",
      "dtypes: int64(17), object(7)\n",
      "memory usage: 178.8+ KB\n"
     ]
    }
   ],
   "source": [
    "df.info()"
   ]
  },
  {
   "cell_type": "markdown",
   "id": "7001627f",
   "metadata": {},
   "source": [
    "The data we have has 953 rows representing a unique song with its features, and has 24 columns representing track name, artist name, released year and streams counts. Some columns like in_shazam charts and key have 903 and 858 non null values which raises questions about the accuracy of our data. The data has missing values and we need to clean it to have a clear analysis of the data. "
   ]
  },
  {
   "cell_type": "markdown",
   "id": "96feffc1",
   "metadata": {},
   "source": [
    "To clean our data we first check for null values."
   ]
  },
  {
   "cell_type": "code",
   "execution_count": 6,
   "id": "a75f2049",
   "metadata": {},
   "outputs": [
    {
     "data": {
      "text/plain": [
       "track_name               0\n",
       "artist(s)_name           0\n",
       "artist_count             0\n",
       "released_year            0\n",
       "released_month           0\n",
       "released_day             0\n",
       "in_spotify_playlists     0\n",
       "in_spotify_charts        0\n",
       "streams                  0\n",
       "in_apple_playlists       0\n",
       "in_apple_charts          0\n",
       "in_deezer_playlists      0\n",
       "in_deezer_charts         0\n",
       "in_shazam_charts        50\n",
       "bpm                      0\n",
       "key                     95\n",
       "mode                     0\n",
       "danceability_%           0\n",
       "valence_%                0\n",
       "energy_%                 0\n",
       "acousticness_%           0\n",
       "instrumentalness_%       0\n",
       "liveness_%               0\n",
       "speechiness_%            0\n",
       "dtype: int64"
      ]
     },
     "execution_count": 6,
     "metadata": {},
     "output_type": "execute_result"
    }
   ],
   "source": [
    "df.isnull().sum()"
   ]
  },
  {
   "cell_type": "markdown",
   "id": "5a03130a",
   "metadata": {},
   "source": [
    "In shazam charts has 50 missing values and key has 95 missing values. To clean our data we need to drop this missing values."
   ]
  },
  {
   "cell_type": "code",
   "execution_count": 7,
   "id": "39a8b9d8",
   "metadata": {},
   "outputs": [],
   "source": [
    "df.dropna(inplace=True)"
   ]
  },
  {
   "cell_type": "code",
   "execution_count": 8,
   "id": "6b5d5f0a",
   "metadata": {},
   "outputs": [
    {
     "name": "stdout",
     "output_type": "stream",
     "text": [
      "object\n"
     ]
    }
   ],
   "source": [
    "print(df[\"streams\"].dtype)\n"
   ]
  },
  {
   "cell_type": "code",
   "execution_count": 9,
   "id": "4b0d050e",
   "metadata": {},
   "outputs": [],
   "source": [
    "df[\"streams\"] = pd.to_numeric(df[\"streams\"], errors=\"coerce\")\n"
   ]
  },
  {
   "cell_type": "code",
   "execution_count": 10,
   "id": "e61c95b3",
   "metadata": {},
   "outputs": [],
   "source": [
    "pd.set_option(\"display.float_format\", \"{:.2f}\".format)"
   ]
  },
  {
   "cell_type": "code",
   "execution_count": 11,
   "id": "7c6525f2",
   "metadata": {},
   "outputs": [
    {
     "name": "stdout",
     "output_type": "stream",
     "text": [
      "<class 'pandas.core.frame.DataFrame'>\n",
      "Index: 817 entries, 0 to 952\n",
      "Data columns (total 24 columns):\n",
      " #   Column                Non-Null Count  Dtype  \n",
      "---  ------                --------------  -----  \n",
      " 0   track_name            817 non-null    object \n",
      " 1   artist(s)_name        817 non-null    object \n",
      " 2   artist_count          817 non-null    int64  \n",
      " 3   released_year         817 non-null    int64  \n",
      " 4   released_month        817 non-null    int64  \n",
      " 5   released_day          817 non-null    int64  \n",
      " 6   in_spotify_playlists  817 non-null    int64  \n",
      " 7   in_spotify_charts     817 non-null    int64  \n",
      " 8   streams               816 non-null    float64\n",
      " 9   in_apple_playlists    817 non-null    int64  \n",
      " 10  in_apple_charts       817 non-null    int64  \n",
      " 11  in_deezer_playlists   817 non-null    object \n",
      " 12  in_deezer_charts      817 non-null    int64  \n",
      " 13  in_shazam_charts      817 non-null    object \n",
      " 14  bpm                   817 non-null    int64  \n",
      " 15  key                   817 non-null    object \n",
      " 16  mode                  817 non-null    object \n",
      " 17  danceability_%        817 non-null    int64  \n",
      " 18  valence_%             817 non-null    int64  \n",
      " 19  energy_%              817 non-null    int64  \n",
      " 20  acousticness_%        817 non-null    int64  \n",
      " 21  instrumentalness_%    817 non-null    int64  \n",
      " 22  liveness_%            817 non-null    int64  \n",
      " 23  speechiness_%         817 non-null    int64  \n",
      "dtypes: float64(1), int64(17), object(6)\n",
      "memory usage: 159.6+ KB\n"
     ]
    }
   ],
   "source": [
    "df.info()"
   ]
  },
  {
   "cell_type": "markdown",
   "id": "3da33755",
   "metadata": {},
   "source": [
    "After dropping the missing values, the data now has 817 rows instead of 953. The missing values we dropped, and the data is clear"
   ]
  },
  {
   "cell_type": "markdown",
   "id": "4ef1bf13",
   "metadata": {},
   "source": [
    "Data Analysis"
   ]
  },
  {
   "cell_type": "code",
   "execution_count": 12,
   "id": "19f3db54",
   "metadata": {},
   "outputs": [
    {
     "data": {
      "text/html": [
       "<div>\n",
       "<style scoped>\n",
       "    .dataframe tbody tr th:only-of-type {\n",
       "        vertical-align: middle;\n",
       "    }\n",
       "\n",
       "    .dataframe tbody tr th {\n",
       "        vertical-align: top;\n",
       "    }\n",
       "\n",
       "    .dataframe thead th {\n",
       "        text-align: right;\n",
       "    }\n",
       "</style>\n",
       "<table border=\"1\" class=\"dataframe\">\n",
       "  <thead>\n",
       "    <tr style=\"text-align: right;\">\n",
       "      <th></th>\n",
       "      <th>artist_count</th>\n",
       "      <th>released_year</th>\n",
       "      <th>released_month</th>\n",
       "      <th>released_day</th>\n",
       "      <th>in_spotify_playlists</th>\n",
       "      <th>in_spotify_charts</th>\n",
       "      <th>streams</th>\n",
       "      <th>in_apple_playlists</th>\n",
       "      <th>in_apple_charts</th>\n",
       "      <th>in_deezer_charts</th>\n",
       "      <th>bpm</th>\n",
       "      <th>danceability_%</th>\n",
       "      <th>valence_%</th>\n",
       "      <th>energy_%</th>\n",
       "      <th>acousticness_%</th>\n",
       "      <th>instrumentalness_%</th>\n",
       "      <th>liveness_%</th>\n",
       "      <th>speechiness_%</th>\n",
       "    </tr>\n",
       "  </thead>\n",
       "  <tbody>\n",
       "    <tr>\n",
       "      <th>count</th>\n",
       "      <td>817.00</td>\n",
       "      <td>817.00</td>\n",
       "      <td>817.00</td>\n",
       "      <td>817.00</td>\n",
       "      <td>817.00</td>\n",
       "      <td>817.00</td>\n",
       "      <td>816.00</td>\n",
       "      <td>817.00</td>\n",
       "      <td>817.00</td>\n",
       "      <td>817.00</td>\n",
       "      <td>817.00</td>\n",
       "      <td>817.00</td>\n",
       "      <td>817.00</td>\n",
       "      <td>817.00</td>\n",
       "      <td>817.00</td>\n",
       "      <td>817.00</td>\n",
       "      <td>817.00</td>\n",
       "      <td>817.00</td>\n",
       "    </tr>\n",
       "    <tr>\n",
       "      <th>mean</th>\n",
       "      <td>1.57</td>\n",
       "      <td>2018.46</td>\n",
       "      <td>6.02</td>\n",
       "      <td>13.70</td>\n",
       "      <td>4849.90</td>\n",
       "      <td>11.72</td>\n",
       "      <td>468985764.41</td>\n",
       "      <td>60.16</td>\n",
       "      <td>49.47</td>\n",
       "      <td>2.45</td>\n",
       "      <td>122.57</td>\n",
       "      <td>67.39</td>\n",
       "      <td>51.20</td>\n",
       "      <td>64.36</td>\n",
       "      <td>26.31</td>\n",
       "      <td>1.68</td>\n",
       "      <td>18.17</td>\n",
       "      <td>10.53</td>\n",
       "    </tr>\n",
       "    <tr>\n",
       "      <th>std</th>\n",
       "      <td>0.88</td>\n",
       "      <td>10.83</td>\n",
       "      <td>3.57</td>\n",
       "      <td>9.30</td>\n",
       "      <td>7741.13</td>\n",
       "      <td>18.62</td>\n",
       "      <td>523126748.21</td>\n",
       "      <td>74.92</td>\n",
       "      <td>49.57</td>\n",
       "      <td>5.40</td>\n",
       "      <td>28.17</td>\n",
       "      <td>14.69</td>\n",
       "      <td>23.62</td>\n",
       "      <td>16.11</td>\n",
       "      <td>25.47</td>\n",
       "      <td>8.77</td>\n",
       "      <td>13.54</td>\n",
       "      <td>10.22</td>\n",
       "    </tr>\n",
       "    <tr>\n",
       "      <th>min</th>\n",
       "      <td>1.00</td>\n",
       "      <td>1930.00</td>\n",
       "      <td>1.00</td>\n",
       "      <td>1.00</td>\n",
       "      <td>31.00</td>\n",
       "      <td>0.00</td>\n",
       "      <td>2762.00</td>\n",
       "      <td>0.00</td>\n",
       "      <td>0.00</td>\n",
       "      <td>0.00</td>\n",
       "      <td>65.00</td>\n",
       "      <td>23.00</td>\n",
       "      <td>4.00</td>\n",
       "      <td>14.00</td>\n",
       "      <td>0.00</td>\n",
       "      <td>0.00</td>\n",
       "      <td>3.00</td>\n",
       "      <td>2.00</td>\n",
       "    </tr>\n",
       "    <tr>\n",
       "      <th>25%</th>\n",
       "      <td>1.00</td>\n",
       "      <td>2021.00</td>\n",
       "      <td>3.00</td>\n",
       "      <td>5.00</td>\n",
       "      <td>829.00</td>\n",
       "      <td>0.00</td>\n",
       "      <td>134284821.00</td>\n",
       "      <td>12.00</td>\n",
       "      <td>6.00</td>\n",
       "      <td>0.00</td>\n",
       "      <td>99.00</td>\n",
       "      <td>57.00</td>\n",
       "      <td>32.00</td>\n",
       "      <td>53.00</td>\n",
       "      <td>5.00</td>\n",
       "      <td>0.00</td>\n",
       "      <td>10.00</td>\n",
       "      <td>4.00</td>\n",
       "    </tr>\n",
       "    <tr>\n",
       "      <th>50%</th>\n",
       "      <td>1.00</td>\n",
       "      <td>2022.00</td>\n",
       "      <td>5.00</td>\n",
       "      <td>13.00</td>\n",
       "      <td>2040.00</td>\n",
       "      <td>3.00</td>\n",
       "      <td>263836779.50</td>\n",
       "      <td>32.00</td>\n",
       "      <td>34.00</td>\n",
       "      <td>0.00</td>\n",
       "      <td>120.00</td>\n",
       "      <td>70.00</td>\n",
       "      <td>51.00</td>\n",
       "      <td>66.00</td>\n",
       "      <td>17.00</td>\n",
       "      <td>0.00</td>\n",
       "      <td>12.00</td>\n",
       "      <td>6.00</td>\n",
       "    </tr>\n",
       "    <tr>\n",
       "      <th>75%</th>\n",
       "      <td>2.00</td>\n",
       "      <td>2022.00</td>\n",
       "      <td>9.00</td>\n",
       "      <td>22.00</td>\n",
       "      <td>4890.00</td>\n",
       "      <td>16.00</td>\n",
       "      <td>601198591.25</td>\n",
       "      <td>78.00</td>\n",
       "      <td>84.00</td>\n",
       "      <td>2.00</td>\n",
       "      <td>141.00</td>\n",
       "      <td>79.00</td>\n",
       "      <td>70.00</td>\n",
       "      <td>76.00</td>\n",
       "      <td>41.00</td>\n",
       "      <td>0.00</td>\n",
       "      <td>24.00</td>\n",
       "      <td>12.00</td>\n",
       "    </tr>\n",
       "    <tr>\n",
       "      <th>max</th>\n",
       "      <td>8.00</td>\n",
       "      <td>2023.00</td>\n",
       "      <td>12.00</td>\n",
       "      <td>31.00</td>\n",
       "      <td>52898.00</td>\n",
       "      <td>147.00</td>\n",
       "      <td>3562543890.00</td>\n",
       "      <td>532.00</td>\n",
       "      <td>275.00</td>\n",
       "      <td>45.00</td>\n",
       "      <td>206.00</td>\n",
       "      <td>96.00</td>\n",
       "      <td>97.00</td>\n",
       "      <td>97.00</td>\n",
       "      <td>97.00</td>\n",
       "      <td>91.00</td>\n",
       "      <td>97.00</td>\n",
       "      <td>64.00</td>\n",
       "    </tr>\n",
       "  </tbody>\n",
       "</table>\n",
       "</div>"
      ],
      "text/plain": [
       "       artist_count  released_year  released_month  released_day  \\\n",
       "count        817.00         817.00          817.00        817.00   \n",
       "mean           1.57        2018.46            6.02         13.70   \n",
       "std            0.88          10.83            3.57          9.30   \n",
       "min            1.00        1930.00            1.00          1.00   \n",
       "25%            1.00        2021.00            3.00          5.00   \n",
       "50%            1.00        2022.00            5.00         13.00   \n",
       "75%            2.00        2022.00            9.00         22.00   \n",
       "max            8.00        2023.00           12.00         31.00   \n",
       "\n",
       "       in_spotify_playlists  in_spotify_charts       streams  \\\n",
       "count                817.00             817.00        816.00   \n",
       "mean                4849.90              11.72  468985764.41   \n",
       "std                 7741.13              18.62  523126748.21   \n",
       "min                   31.00               0.00       2762.00   \n",
       "25%                  829.00               0.00  134284821.00   \n",
       "50%                 2040.00               3.00  263836779.50   \n",
       "75%                 4890.00              16.00  601198591.25   \n",
       "max                52898.00             147.00 3562543890.00   \n",
       "\n",
       "       in_apple_playlists  in_apple_charts  in_deezer_charts    bpm  \\\n",
       "count              817.00           817.00            817.00 817.00   \n",
       "mean                60.16            49.47              2.45 122.57   \n",
       "std                 74.92            49.57              5.40  28.17   \n",
       "min                  0.00             0.00              0.00  65.00   \n",
       "25%                 12.00             6.00              0.00  99.00   \n",
       "50%                 32.00            34.00              0.00 120.00   \n",
       "75%                 78.00            84.00              2.00 141.00   \n",
       "max                532.00           275.00             45.00 206.00   \n",
       "\n",
       "       danceability_%  valence_%  energy_%  acousticness_%  \\\n",
       "count          817.00     817.00    817.00          817.00   \n",
       "mean            67.39      51.20     64.36           26.31   \n",
       "std             14.69      23.62     16.11           25.47   \n",
       "min             23.00       4.00     14.00            0.00   \n",
       "25%             57.00      32.00     53.00            5.00   \n",
       "50%             70.00      51.00     66.00           17.00   \n",
       "75%             79.00      70.00     76.00           41.00   \n",
       "max             96.00      97.00     97.00           97.00   \n",
       "\n",
       "       instrumentalness_%  liveness_%  speechiness_%  \n",
       "count              817.00      817.00         817.00  \n",
       "mean                 1.68       18.17          10.53  \n",
       "std                  8.77       13.54          10.22  \n",
       "min                  0.00        3.00           2.00  \n",
       "25%                  0.00       10.00           4.00  \n",
       "50%                  0.00       12.00           6.00  \n",
       "75%                  0.00       24.00          12.00  \n",
       "max                 91.00       97.00          64.00  "
      ]
     },
     "execution_count": 12,
     "metadata": {},
     "output_type": "execute_result"
    }
   ],
   "source": [
    "df.describe()"
   ]
  },
  {
   "cell_type": "markdown",
   "id": "21a8f60d",
   "metadata": {},
   "source": [
    "    The average stream count for this data is 468.98 million streams. On average, songs in this dataset were released around mid-June. The average release year for this data is 2018, suggesting most hit songs were released around this time. The latest songs from this data are from the year 2023, while the oldest date to 1930. The streams feature shows high variance, indicating that some songs are extremely popular while others have very few streams. The maximum stream count is 3.5 billion streams while lowest 2762 streams showing a big difference between popular songs and non popular songs."
   ]
  },
  {
   "cell_type": "markdown",
   "id": "1e4acd59",
   "metadata": {},
   "source": [
    "Data Insights"
   ]
  },
  {
   "cell_type": "markdown",
   "id": "36fd3581",
   "metadata": {},
   "source": [
    "Under the data insights, we would like to know the most popular artists on Spotify by streams to highlight the dominant artists in terms of popularity. We also like to know the most streamed songs on Spotify to identify the top hit track in the dataset and provide insights into the ultimate listener preference. W also get the average streams per year to check how popularity of songs changes over time."
   ]
  },
  {
   "cell_type": "markdown",
   "id": "0fff4ac7",
   "metadata": {},
   "source": [
    "Most popular artists on Spotify by streams."
   ]
  },
  {
   "cell_type": "code",
   "execution_count": 13,
   "id": "9654e308",
   "metadata": {},
   "outputs": [
    {
     "name": "stdout",
     "output_type": "stream",
     "text": [
      "Most popular artists:\n",
      " artist(s)_name\n",
      "Taylor Swift   11851151082.00\n",
      "Ed Sheeran     11051252012.00\n",
      "Bad Bunny       8582384095.00\n",
      "Eminem          6183805596.00\n",
      "The Weeknd      6038640754.00\n",
      "Name: streams, dtype: float64\n"
     ]
    }
   ],
   "source": [
    "most_popular_artists = (df.groupby(\"artist(s)_name\")[\"streams\"].sum().sort_values(ascending=False))\n",
    "print(\"Most popular artists:\\n\", most_popular_artists.head())\n"
   ]
  },
  {
   "cell_type": "markdown",
   "id": "88c89675",
   "metadata": {},
   "source": [
    "By identifying the most popular artist, we can see which musicians consistently capture the audience’s attention and hold the largest share of streams.Taylor Swift is the most popular artist in Spotify with 1.18 billion streams followed by Ed Sheeran with 1.1 billion streams, then Bad Bunny with 858 million streams. Eminem follows with 618 million streams, then The Weeknd with 603 million streams. Taylor Swift captures attention on Spotify and has the most streams."
   ]
  },
  {
   "cell_type": "markdown",
   "id": "6324cdd6",
   "metadata": {},
   "source": [
    "Top artists that produced the most hits on Spotify."
   ]
  },
  {
   "cell_type": "code",
   "execution_count": 14,
   "id": "01b67c87",
   "metadata": {},
   "outputs": [
    {
     "name": "stdout",
     "output_type": "stream",
     "text": [
      "artist(s)_name\n",
      "Taylor Swift      29\n",
      "SZA               17\n",
      "Bad Bunny         16\n",
      "The Weeknd        15\n",
      "Kendrick Lamar    12\n",
      "Name: count, dtype: int64\n"
     ]
    }
   ],
   "source": [
    "number_of_hits_per_artist=(df[\"artist(s)_name\"].value_counts().head())\n",
    "print(number_of_hits_per_artist)"
   ]
  },
  {
   "cell_type": "markdown",
   "id": "4b4fcde0",
   "metadata": {},
   "source": [
    "Taylor Swift has a total of 34 hit songs on the Popular Spotify songs list followed by The Weeknd with 22  hit songs, then Bad Bunny and SZA with 19 hit songs,then Harry Styles with 17 songs. Hence Taylor Swift has the most hits on Spotify. A song released by Taylor Swift or SZA is likely to become a hit because the artists have most released hits and are also popular."
   ]
  },
  {
   "cell_type": "markdown",
   "id": "3a73086b",
   "metadata": {},
   "source": [
    "Most streamed songs on Spotify"
   ]
  },
  {
   "cell_type": "code",
   "execution_count": 15,
   "id": "3032c4b0",
   "metadata": {},
   "outputs": [
    {
     "name": "stdout",
     "output_type": "stream",
     "text": [
      "track_name\n",
      "Shape of You                                    3562543890.00\n",
      "Sunflower - Spider-Man: Into the Spider-Verse   2808096550.00\n",
      "One Dance                                       2713922350.00\n",
      "STAY (with Justin Bieber)                       2665343922.00\n",
      "Believer                                        2594040133.00\n",
      "Name: streams, dtype: float64\n"
     ]
    }
   ],
   "source": [
    "top_songs = df.groupby(\"track_name\")[\"streams\"].sum().sort_values(ascending=False).head(5)\n",
    "print(top_songs)\n"
   ]
  },
  {
   "cell_type": "markdown",
   "id": "d98594e2",
   "metadata": {},
   "source": [
    "The top 5 most steamed songs on Spotify is Shape of You with 3.5 billion streams, Sunflower with 2.8 billion streams,One Dance with 2.71 billion streams and Stay with 2.6 billion streams. Shape of you by Ed Sheeran is the most streamed song on Spotify."
   ]
  },
  {
   "cell_type": "markdown",
   "id": "60d1aeaf",
   "metadata": {},
   "source": [
    "Average streams per year"
   ]
  },
  {
   "cell_type": "code",
   "execution_count": 16,
   "id": "d7460487",
   "metadata": {},
   "outputs": [
    {
     "name": "stdout",
     "output_type": "stream",
     "text": [
      "released_year\n",
      "2000   1224285700.33\n",
      "2002   1446620470.50\n",
      "2003   1584021370.50\n",
      "2004    952664875.33\n",
      "2005    180577478.00\n",
      "2008   1240407950.00\n",
      "2010   1048400819.17\n",
      "2011    878452623.44\n",
      "2012   1029740974.67\n",
      "2013   1362225297.20\n",
      "2014   1275126822.67\n",
      "2015    910423256.33\n",
      "2016   1135476212.53\n",
      "2017   1497372434.68\n",
      "2018   1349253397.33\n",
      "2019    858923124.44\n",
      "2020    784012453.13\n",
      "2021    548942993.67\n",
      "2022    279439530.51\n",
      "2023    143932389.40\n",
      "Name: streams, dtype: float64\n"
     ]
    }
   ],
   "source": [
    "df = df[df[\"released_year\"] >= 2000]\n",
    "avg_streams_per_year = (df.groupby(\"released_year\")[\"streams\"] .mean() .sort_index())\n",
    "print(avg_streams_per_year)"
   ]
  },
  {
   "cell_type": "markdown",
   "id": "546fb5ff",
   "metadata": {},
   "source": [
    "The average streams per year was the highest between 2012 and 2018 with streams above 1 billion. This shows that during this period, massively popular songs were released.The average streams per year have also increased since 2000, showing that newer songs tend to get more streams, likely due to the growth of Spotify and the streaming culture. However, some older songs like Yellow\tby Chris Molitor still dominate the top streams, creating spikes in certain years."
   ]
  },
  {
   "cell_type": "markdown",
   "id": "f35b8f29",
   "metadata": {},
   "source": [
    "Visualizations"
   ]
  },
  {
   "cell_type": "markdown",
   "id": "8283ac9a",
   "metadata": {},
   "source": [
    "Bar chart showing most popular artists on Spotify by streams"
   ]
  },
  {
   "cell_type": "code",
   "execution_count": null,
   "id": "033643d9",
   "metadata": {},
   "outputs": [
    {
     "data": {
      "image/png": "[encoded data removed]",
      "text/plain": [
       "<Figure size 1200x800 with 1 Axes>"
      ]
     },
     "metadata": {},
     "output_type": "display_data"
    }
   ],
   "source": [
    "artist_streams = (\n",
    "    df.groupby(\"artist(s)_name\")[\"streams\"].sum()\n",
    "      .sort_values(ascending=False)[:10])\n",
    "\n",
    "plt.figure(figsize=(12,8))\n",
    "plt.bar(artist_streams.index, artist_streams.values, color=(\"red\"))\n",
    "plt.title(\"Top 10 Artists by Total Streams\")\n",
    "plt.xlabel(\"Artist\")\n",
    "plt.ylabel(\"Total Streams(in billions)\")\n",
    "plt.show()"
   ]
  },
  {
   "cell_type": "markdown",
   "id": "72b419df",
   "metadata": {},
   "source": [
    "Artists like Taylor Swift, Ed Sheeran, The Weeknd appear multiple times to mean that popular artists consistently produce high-stream songs. A song featured by Taylor Swift and Ed Sheeran is likely to hit the chats because they are popular. Same to a son released by The Weeknd and Eminem or Harry Styles."
   ]
  },
  {
   "cell_type": "markdown",
   "id": "258db1b4",
   "metadata": {},
   "source": [
    "Trendline showing average streams per release year"
   ]
  },
  {
   "cell_type": "code",
   "execution_count": 18,
   "id": "618ce45e",
   "metadata": {},
   "outputs": [
    {
     "data": {
      "image/png": "[encoded data removed]",
      "text/plain": [
       "<Figure size 640x480 with 1 Axes>"
      ]
     },
     "metadata": {},
     "output_type": "display_data"
    }
   ],
   "source": [
    "avg_per_year = df.groupby(\"released_year\")[\"streams\"].mean()\n",
    "avg_per_year.plot(kind=\"line\", marker=\" \")\n",
    "plt.xlabel(\"Release year\")\n",
    "plt.ylabel(\"Average Streams\")\n",
    "plt.title(\"Average Streams by Release Year\")\n",
    "plt.show()\n"
   ]
  },
  {
   "cell_type": "code",
   "execution_count": 19,
   "id": "20aa59b3",
   "metadata": {},
   "outputs": [
    {
     "name": "stdout",
     "output_type": "stream",
     "text": [
      "         track_name artist(s)_name  artist_count  released_year  \\\n",
      "331            Numb    Linkin Park             1           2003   \n",
      "630  Mr. Brightside    The Killers             1           2003   \n",
      "\n",
      "     released_month  released_day  in_spotify_playlists  in_spotify_charts  \\\n",
      "331               3            24                 20111                  5   \n",
      "630               9            23                 51979                 15   \n",
      "\n",
      "          streams  in_apple_playlists  ...  bpm key   mode danceability_%  \\\n",
      "331 1361425037.00                  39  ...  110   A  Major             50   \n",
      "630 1806617704.00                 306  ...  148  C#  Major             35   \n",
      "\n",
      "     valence_% energy_% acousticness_%  instrumentalness_%  liveness_%  \\\n",
      "331         24       86              0                   0          64   \n",
      "630         24       93              0                   0          10   \n",
      "\n",
      "     speechiness_%  \n",
      "331              4  \n",
      "630              8  \n",
      "\n",
      "[2 rows x 24 columns]\n"
     ]
    }
   ],
   "source": [
    "year_2003 = df[df[\"released_year\"] == 2003]\n",
    "print(year_2003.head())"
   ]
  },
  {
   "cell_type": "markdown",
   "id": "2733372d",
   "metadata": {},
   "source": [
    "It is clear that songs like Numb and Mr.Brightside released in 2003 had the most streams in average over the years with both songs having more than a billion streams in 1 year.It is also clear that songs released in 2005 did not get as much streams hence a sharp drop. There is a huge stream growth in songs released from 2010 to 2020, showing most popular songs on Spotify were released during this time. "
   ]
  },
  {
   "cell_type": "markdown",
   "id": "9326fc2a",
   "metadata": {},
   "source": [
    "Bar chat showing top 10 most streamed songs "
   ]
  },
  {
   "cell_type": "code",
   "execution_count": 20,
   "id": "963b00d7",
   "metadata": {},
   "outputs": [
    {
     "data": {
      "image/png": "[encoded data removed]",
      "text/plain": [
       "<Figure size 1200x800 with 1 Axes>"
      ]
     },
     "metadata": {},
     "output_type": "display_data"
    }
   ],
   "source": [
    "top_songs = df.groupby(\"track_name\")[\"streams\"].sum().sort_values(ascending=False)[:10]\n",
    "plt.figure(figsize=(12,8))\n",
    "plt.bar(top_songs.index, top_songs.values)\n",
    "plt.xticks(ha=\"center\", va=\"bottom\",fontsize=9, rotation=90)  \n",
    "plt.xlabel(\"Songs\")\n",
    "plt.ylabel(\"Total Streams(in billions)\")\n",
    "plt.title(\"Top 10 Most Streamed Songs\")\n",
    "plt.show()"
   ]
  },
  {
   "cell_type": "markdown",
   "id": "6870daba",
   "metadata": {},
   "source": [
    "Shape of you by Ed Sheeran is the most streamed song on Spotify with 3.5 billion streams followed by Sunflower with 2.8 billion streams,One Dance with 2.71 billion streams and Stay with 2.6 billion streams. "
   ]
  },
  {
   "cell_type": "markdown",
   "id": "4859bc64",
   "metadata": {},
   "source": [
    "Conclusion"
   ]
  },
  {
   "cell_type": "markdown",
   "id": "f534ca08",
   "metadata": {},
   "source": [
    "In conclusion,the average streams per year tend to increase for newer release years, reflecting Spotify’s growth and the popularity of streaming in the 2010s and 2020s.Most popular artists also have the most streams meaning the streams are mostly influenced by the popularity of the artist.Popular artists also influence the number of streams and songs featured with popular artists are likely to have more streams too."
   ]
  }
 ],
 "metadata": {
  "kernelspec": {
   "display_name": "base",
   "language": "python",
   "name": "python3"
  },
  "language_info": {
   "codemirror_mode": {
    "name": "ipython",
    "version": 3
   },
   "file_extension": ".py",
   "mimetype": "text/x-python",
   "name": "python",
   "nbconvert_exporter": "python",
   "pygments_lexer": "ipython3",
   "version": "3.13.5"
  }
 },
 "nbformat": 4,
 "nbformat_minor": 5
}
